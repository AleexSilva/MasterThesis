{
 "cells": [
  {
   "cell_type": "code",
   "execution_count": null,
   "metadata": {},
   "outputs": [],
   "source": []
  },
  {
   "cell_type": "code",
   "execution_count": null,
   "metadata": {},
   "outputs": [],
   "source": []
  },
  {
   "cell_type": "code",
   "execution_count": null,
   "metadata": {},
   "outputs": [],
   "source": []
  },
  {
   "cell_type": "code",
   "execution_count": null,
   "metadata": {},
   "outputs": [],
   "source": []
  },
  {
   "cell_type": "code",
   "execution_count": null,
   "metadata": {},
   "outputs": [],
   "source": []
  },
  {
   "cell_type": "code",
   "execution_count": null,
   "metadata": {},
   "outputs": [],
   "source": [
    "# plot cantidad de tweets por usuario\r\n",
    "plt.figure(figsize=(15,8))\r\n",
    "plt.title('Cantidad de tweets por usuario')\r\n",
    "plt.xlabel('Usuarios')\r\n",
    "plt.ylabel('Tweets')  \r\n",
    "df['Usuario'].value_counts()[:20].plot(kind = 'bar')\r\n",
    "plt.show()"
   ]
  },
  {
   "cell_type": "code",
   "execution_count": null,
   "metadata": {},
   "outputs": [],
   "source": [
    "# Series de tiempo\r\n",
    "from matplotlib import pyplot as plt\r\n",
    "import seaborn as sns\r\n",
    "sns.set()\r\n",
    "time_long = df.groupby(df['Fecha'])['Long_Texto'].sum()\r\n",
    "time_long.plot(figsize=(16, 4), color='r')\r\n",
    "plt.title('Logitud por Tweet',fontsize=16)\r\n",
    "plt.show()\r\n",
    "\r\n",
    "time_likes = df.groupby(df['Fecha'])['Likes'].sum()\r\n",
    "time_likes.plot(figsize=(16, 4), color='b')\r\n",
    "plt.title('Likes por Tweet',fontsize=16)\r\n",
    "plt.show()\r\n",
    "\r\n",
    "time_retweets = df.groupby(df['Fecha'])['Retweets'].sum()\r\n",
    "time_retweets.plot(figsize=(16, 4), color='g')\r\n",
    "plt.title('Retweet por Tweet',fontsize=16)\r\n",
    "plt.show()\r\n",
    "\r\n",
    "time_respuestas = df.groupby(df['Fecha'])['Respuestas'].sum()\r\n",
    "time_respuestas.plot(figsize=(16, 4), color='y')\r\n",
    "plt.title('Respuestas por Tweet',fontsize=16)\r\n",
    "plt.show()\r\n",
    "\r\n",
    "time_citas = df.groupby(df['Fecha'])['cant_citas'].sum()\r\n",
    "time_citas.plot(figsize=(16, 4), color='gray')\r\n",
    "plt.title('Citas por Tweet',fontsize=16)\r\n",
    "plt.show()"
   ]
  },
  {
   "cell_type": "code",
   "execution_count": null,
   "metadata": {},
   "outputs": [],
   "source": []
  }
 ],
 "metadata": {
  "interpreter": {
   "hash": "68085c160c24486091918865001a87af9229d3fb515dc7068b6f3f223a2e33f7"
  },
  "kernelspec": {
   "display_name": "Python 3.9.4 64-bit ('venv')",
   "name": "python3"
  },
  "language_info": {
   "name": "python",
   "version": ""
  },
  "orig_nbformat": 4
 },
 "nbformat": 4,
 "nbformat_minor": 2
}